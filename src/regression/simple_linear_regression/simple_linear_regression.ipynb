{
 "metadata": {
  "language_info": {
   "codemirror_mode": {
    "name": "ipython",
    "version": 3
   },
   "file_extension": ".py",
   "mimetype": "text/x-python",
   "name": "python",
   "nbconvert_exporter": "python",
   "pygments_lexer": "ipython3",
   "version": "3.8.5-final"
  },
  "orig_nbformat": 2,
  "kernelspec": {
   "name": "python3",
   "display_name": "Python 3",
   "language": "python"
  }
 },
 "nbformat": 4,
 "nbformat_minor": 2,
 "cells": [
  {
   "source": [
    "# Simple Linear Regression"
   ],
   "cell_type": "markdown",
   "metadata": {}
  },
  {
   "cell_type": "code",
   "execution_count": 4,
   "metadata": {},
   "outputs": [],
   "source": [
    "import numpy as np\n",
    "import matplotlib.pyplot as plt\n",
    "import pandas as pd\n",
    "from sklearn.model_selection import train_test_split"
   ]
  },
  {
   "source": [
    "## Importing the dataset"
   ],
   "cell_type": "markdown",
   "metadata": {}
  },
  {
   "cell_type": "code",
   "execution_count": 5,
   "metadata": {},
   "outputs": [],
   "source": [
    "data_set = pd.read_csv('salaries.csv')\n",
    "features = data_set.iloc[:, :-1].values\n",
    "dependent_vector = data_set.iloc[:, -1].values"
   ]
  },
  {
   "source": [
    "## Splitting the dataset into the Training set and Test set"
   ],
   "cell_type": "markdown",
   "metadata": {}
  },
  {
   "cell_type": "code",
   "execution_count": 6,
   "metadata": {},
   "outputs": [],
   "source": [
    "feature_train, feature_test, dependent_train, dependent_test = train_test_split(\n",
    "  features, dependent_vector, test_size=0.2, random_state=0\n",
    ")"
   ]
  },
  {
   "cell_type": "code",
   "execution_count": 7,
   "metadata": {},
   "outputs": [
    {
     "output_type": "stream",
     "name": "stdout",
     "text": [
      "[[ 9.6]\n [ 4. ]\n [ 5.3]\n [ 7.9]\n [ 2.9]\n [ 5.1]\n [ 3.2]\n [ 4.5]\n [ 8.2]\n [ 6.8]\n [ 1.3]\n [10.5]\n [ 3. ]\n [ 2.2]\n [ 5.9]\n [ 6. ]\n [ 3.7]\n [ 3.2]\n [ 9. ]\n [ 2. ]\n [ 1.1]\n [ 7.1]\n [ 4.9]\n [ 4. ]]\n"
     ]
    }
   ],
   "source": [
    "print(feature_train)"
   ]
  },
  {
   "cell_type": "code",
   "execution_count": 8,
   "metadata": {},
   "outputs": [
    {
     "output_type": "stream",
     "name": "stdout",
     "text": [
      "[[ 1.5]\n [10.3]\n [ 4.1]\n [ 3.9]\n [ 9.5]\n [ 8.7]]\n"
     ]
    }
   ],
   "source": [
    "print(feature_test)"
   ]
  },
  {
   "source": [
    "## Training the Simple Linear Regression model on the Training set"
   ],
   "cell_type": "markdown",
   "metadata": {}
  },
  {
   "source": [
    "## Predicting the Test set results"
   ],
   "cell_type": "markdown",
   "metadata": {}
  },
  {
   "source": [
    "## Visualising the Training set results"
   ],
   "cell_type": "markdown",
   "metadata": {}
  },
  {
   "source": [
    "## Visualising the Test set results"
   ],
   "cell_type": "markdown",
   "metadata": {}
  }
 ]
}